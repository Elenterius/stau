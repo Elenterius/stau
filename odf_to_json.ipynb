{
 "nbformat": 4,
 "nbformat_minor": 2,
 "metadata": {
  "language_info": {
   "name": "python",
   "codemirror_mode": {
    "name": "ipython",
    "version": 3
   },
   "version": "3.6.8-final"
  },
  "orig_nbformat": 2,
  "file_extension": ".py",
  "mimetype": "text/x-python",
  "name": "python",
  "npconvert_exporter": "python",
  "pygments_lexer": "ipython3",
  "version": 3,
  "kernelspec": {
   "name": "python36864bitb05fb61ea20f434396e4148b0d717816",
   "display_name": "Python 3.6.8 64-bit"
  }
 },
 "cells": [
  {
   "cell_type": "markdown",
   "metadata": {},
   "source": [
    "# ODF Parser"
   ]
  },
  {
   "cell_type": "code",
   "execution_count": 1,
   "metadata": {},
   "outputs": [],
   "source": [
    "from odf_utils.odf_parser import ODF_Parser\n",
    "import json"
   ]
  },
  {
   "cell_type": "code",
   "execution_count": 2,
   "metadata": {},
   "outputs": [],
   "source": [
    "parser = ODF_Parser('D:\\Program Files (x86)\\Activision\\Star Trek Armada II\\odf')"
   ]
  },
  {
   "cell_type": "code",
   "execution_count": 3,
   "metadata": {},
   "outputs": [
    {
     "name": "stdout",
     "output_type": "stream",
     "text": "[UnknownValueParsingError]: invalid token in \"mtest.odf\" at \"weaponMask\" --> 00001\n[UnknownValueParsingError]: invalid token in \"player.odf\" at \"weaponMask\" --> 00001\n[StringParsingError]: invalid syntax in \"gcDreadnaught.odf\" at \"wpnName\" --> \"\", hidden, requires none.\n[StringParsingError]: EOL while scanning string literal in \"wholowav.odf\" at \"hotkeyLabel\" --> \"HOTKEY_F\n"
    }
   ],
   "source": [
    "odfs = parser.parseAll()"
   ]
  },
  {
   "cell_type": "code",
   "execution_count": null,
   "metadata": {},
   "outputs": [],
   "source": [
    "odfs['fconst.odf']"
   ]
  },
  {
   "cell_type": "code",
   "execution_count": 6,
   "metadata": {},
   "outputs": [
    {
     "data": {
      "text/plain": "dict_keys(['\\\\commands', '\\\\other', '\\\\ships', '\\\\special_weapons', '\\\\stations', '\\\\weapons\\\\Phasers', '\\\\weapons\\\\Photons', '\\\\weapons\\\\Pulse'])"
     },
     "execution_count": 6,
     "metadata": {},
     "output_type": "execute_result"
    }
   ],
   "source": [
    "parser.folders.keys()"
   ]
  },
  {
   "cell_type": "code",
   "execution_count": 11,
   "metadata": {},
   "outputs": [],
   "source": [
    "import pathlib\n",
    "\n",
    "folder = '\\\\weapons\\\\Pulse'\n",
    "pathlib.Path('armada2' + folder).mkdir(parents=True, exist_ok=True) \n",
    "\n",
    "for filename in parser.folders[folder]:\n",
    "    data = odfs[filename]\n",
    "    name = filename.replace('odf', 'json')\n",
    "    with open('armada2' + folder + '\\\\' + name, 'w') as outfile:\n",
    "        json.dump(data, outfile)"
   ]
  },
  {
   "cell_type": "markdown",
   "metadata": {},
   "source": [
    "# SOD Parser"
   ]
  },
  {
   "cell_type": "code",
   "execution_count": 2,
   "metadata": {},
   "outputs": [],
   "source": [
    "from sod_utils.sod_parser import SOD_Parser"
   ]
  },
  {
   "cell_type": "code",
   "execution_count": 3,
   "metadata": {},
   "outputs": [],
   "source": [
    "rootPath = 'D:\\\\Program Files (x86)\\\\Activision\\\\Star Trek Armada II\\\\SOD'\n",
    "texturePath = 'D:\\\\Program Files (x86)\\\\Activision\\\\Star Trek Armada II\\\\Textures\\\\RGB'\n",
    "\n",
    "parser = SOD_Parser(rootPath, texturePath)"
   ]
  },
  {
   "cell_type": "code",
   "execution_count": 4,
   "metadata": {},
   "outputs": [
    {
     "name": "stdout",
     "output_type": "stream",
     "text": "['fassault.SOD', 'fbbridge.SOD', 'fcargo.sod', 'fcolony.SOD', 'fconst.sod', 'fdata.SOD', 'fedpod16.SOD', 'ffrigate.sod', 'fincursion.sod', 'fluidicnebula.SOD', 'fluidicrift.SOD', 'font.sod', 'forbital.sod', 'fsaucer.SOD', 'fsrepair.sod', 'ftrading.sod', 'ftransco.SOD', 'fupgrade.sod']\n"
    }
   ],
   "source": [
    "print([sod for sod in filter(lambda x: x.startswith('f'), parser.folders['\\\\'])])"
   ]
  },
  {
   "cell_type": "code",
   "execution_count": 5,
   "metadata": {},
   "outputs": [
    {
     "name": "stdout",
     "output_type": "stream",
     "text": "SOD Format Version: 1.9299999475479126\n"
    },
    {
     "data": {
      "text/plain": "{'materials': [{'name': 'team',\n   'ambient_color': [0.0, 0.0, 0.0],\n   'diffuse_color': [1.0, 0.0, 0.0],\n   'specular_color': [0.0, 0.0, 0.0],\n   'specular_shininess': 4.287093639373779,\n   'lighting_model': 'lambert',\n   'self_illumination_enabled': True},\n  {'name': 'fincursion',\n   'ambient_color': [0.0, 0.0, 0.0],\n   'diffuse_color': [1.0, 1.0, 1.0],\n   'specular_color': [0.0, 0.0, 0.0],\n   'specular_shininess': 4.287093639373779,\n   'lighting_model': 'lambert',\n   'self_illumination_enabled': True}],\n 'nodes': [{'type': 'NULL_OR_HARDPOINT',\n   'id': 'Scene Root',\n   'parent': '',\n   'local_transform': [[1.0, 0.0, 0.0],\n    [0.0, 1.0, 0.0],\n    [0.0, 0.0, 1.0],\n    [0.0, 0.0, 0.0]]},\n  {'type': 'NULL_OR_HARDPOINT',\n   'id': 'Root',\n   'parent': 'Scene Root',\n   'local_transform': [[1.0, 0.0, 0.0],\n    [0.0, 1.0, 0.0],\n    [0.0, 0.0, 1.0],\n    [0.0, 0.0, 0.0]]},\n  {'type': 'NULL_OR_HARDPOINT',\n   'id': 'Hardpoints',\n   'parent': 'Root',\n   'local_transform': [[1.0, 0.0, 0.0],\n    [0.0, 1.0, 0.0],\n    [0.0, 0.0, 1.0],\n    [0.0, 0.0, 0.0]]},\n  {'type': 'NULL_OR_HARDPOINT',\n   'id': 'hp29',\n   'parent': 'Hardpoints',\n   'local_transform': [[0.9999997615814209,\n     5.2108026959074225e-15,\n     5.210803119423896e-15],\n    [-2.3653328877627333e-16, 0.9999999403953552, 1.1920928244535389e-07],\n    [5.210803119423896e-15, -2.46890525801291e-08, 0.9999999403953552],\n    [-3.0, -1.5, -9.999999046325684]]},\n  {'type': 'NULL_OR_HARDPOINT',\n   'id': 'hp28',\n   'parent': 'Hardpoints',\n   'local_transform': [[0.9999997615814209,\n     5.2108026959074225e-15,\n     5.210803119423896e-15],\n    [-2.3653328877627333e-16, 0.9999999403953552, 1.1920928244535389e-07],\n    [5.210803119423896e-15, -2.46890525801291e-08, 0.9999999403953552],\n    [3.0, -1.5, -9.999999046325684]]},\n  {'type': 'NULL_OR_HARDPOINT',\n   'id': 'hp27',\n   'parent': 'Hardpoints',\n   'local_transform': [[0.9999997615814209,\n     5.2108026959074225e-15,\n     5.210803119423896e-15],\n    [-2.3653328877627333e-16, 0.9999999403953552, 1.1920928244535389e-07],\n    [5.210803119423896e-15, -2.46890525801291e-08, 0.9999999403953552],\n    [-3.0, 0.5, -9.999999046325684]]},\n  {'type': 'NULL_OR_HARDPOINT',\n   'id': 'hp26',\n   'parent': 'Hardpoints',\n   'local_transform': [[0.9999997615814209,\n     5.2108026959074225e-15,\n     5.210803119423896e-15],\n    [-2.3653328877627333e-16, 0.9999999403953552, 1.1920928244535389e-07],\n    [5.210803119423896e-15, -2.46890525801291e-08, 0.9999999403953552],\n    [3.0, 0.4999999701976776, -9.999999046325684]]},\n  {'type': 'NULL_OR_HARDPOINT',\n   'id': 'hp25',\n   'parent': 'Hardpoints',\n   'local_transform': [[0.9999997615814209,\n     5.2108026959074225e-15,\n     5.210803119423896e-15],\n    [-2.3653328877627333e-16, 0.9999999403953552, 1.1920928244535389e-07],\n    [5.210803119423896e-15, -2.46890525801291e-08, 0.9999999403953552],\n    [-9.69564831017882e-23, 0.625, 8.0]]},\n  {'type': 'NULL_OR_HARDPOINT',\n   'id': 'hp24',\n   'parent': 'Hardpoints',\n   'local_transform': [[0.9999997615814209,\n     5.2108026959074225e-15,\n     5.210803119423896e-15],\n    [-2.3653328877627333e-16, 0.9999999403953552, 1.1920928244535389e-07],\n    [5.210803119423896e-15, -2.46890525801291e-08, 0.9999999403953552],\n    [-8.0, -5.948253800625025e-08, 8.572617171253433e-15]]},\n  {'type': 'NULL_OR_HARDPOINT',\n   'id': 'hp23',\n   'parent': 'Hardpoints',\n   'local_transform': [[0.9999997615814209,\n     5.2108026959074225e-15,\n     5.210803119423896e-15],\n    [-2.3653328877627333e-16, 0.9999999403953552, 1.1920928244535389e-07],\n    [5.210803119423896e-15, -2.46890525801291e-08, 0.9999999403953552],\n    [8.0, 1.157918073456507e-15, -4.396293166849727e-16]]},\n  {'type': 'NULL_OR_HARDPOINT',\n   'id': 'hp22',\n   'parent': 'Hardpoints',\n   'local_transform': [[0.9999997615814209,\n     5.2108026959074225e-15,\n     5.210803119423896e-15],\n    [-2.3653328877627333e-16, 0.9999999403953552, 1.1920928244535389e-07],\n    [5.210803119423896e-15, -2.46890525801291e-08, 0.9999999403953552],\n    [2.0, -1.75, 2.999999761581421]]},\n  {'type': 'NULL_OR_HARDPOINT',\n   'id': 'hp21',\n   'parent': 'Hardpoints',\n   'local_transform': [[0.9999997615814209,\n     5.2108026959074225e-15,\n     5.210803119423896e-15],\n    [-2.3653328877627333e-16, 0.9999999403953552, 1.1920928244535389e-07],\n    [5.210803119423896e-15, -2.46890525801291e-08, 0.9999999403953552],\n    [-2.0, -1.75, 2.999999761581421]]},\n  {'type': 'NULL_OR_HARDPOINT',\n   'id': 'hp20',\n   'parent': 'Hardpoints',\n   'local_transform': [[0.9999997615814209,\n     5.2108026959074225e-15,\n     5.210803119423896e-15],\n    [-2.3653328877627333e-16, 0.9999999403953552, 1.1920928244535389e-07],\n    [5.210803119423896e-15, -2.46890525801291e-08, 0.9999999403953552],\n    [6.858409510885483e-14, 0.8750000596046448, 3.999999523162842]]},\n  {'type': 'NULL_OR_HARDPOINT',\n   'id': 'hp19',\n   'parent': 'Hardpoints',\n   'local_transform': [[0.9999997615814209,\n     5.2108026959074225e-15,\n     5.210803119423896e-15],\n    [-2.3653328877627333e-16, 0.9999999403953552, 1.1920928244535389e-07],\n    [5.210803119423896e-15, -2.46890525801291e-08, 0.9999999403953552],\n    [-2.0, 0.625, 7.999999523162842]]},\n  {'type': 'NULL_OR_HARDPOINT',\n   'id': 'hp18',\n   'parent': 'Hardpoints',\n   'local_transform': [[0.9999997615814209,\n     5.2108026959074225e-15,\n     5.210803119423896e-15],\n    [-2.3653328877627333e-16, 0.9999999403953552, 1.1920928244535389e-07],\n    [5.210803119423896e-15, -2.46890525801291e-08, 0.9999999403953552],\n    [2.0, 0.6250000596046448, 8.0]]},\n  {'type': 'NULL_OR_HARDPOINT',\n   'id': 'hp17',\n   'parent': 'Hardpoints',\n   'local_transform': [[0.9999997615814209,\n     5.2108026959074225e-15,\n     5.210803119423896e-15],\n    [-2.3653328877627333e-16, 0.9999999403953552, 1.1920928244535389e-07],\n    [5.210803119423896e-15, -2.46890525801291e-08, 0.9999999403953552],\n    [-4.0, 0.75, 3.999999761581421]]},\n  {'type': 'NULL_OR_HARDPOINT',\n   'id': 'hp16',\n   'parent': 'Hardpoints',\n   'local_transform': [[0.9999997615814209,\n     5.2108026959074225e-15,\n     5.210803119423896e-15],\n    [-2.3653328877627333e-16, 0.9999999403953552, 1.1920928244535389e-07],\n    [5.210803119423896e-15, -2.46890525801291e-08, 0.9999999403953552],\n    [4.0, 0.7500001788139343, 3.999999761581421]]},\n  {'type': 'NULL_OR_HARDPOINT',\n   'id': 'hp15',\n   'parent': 'Hardpoints',\n   'local_transform': [[0.9999997615814209,\n     5.2108026959074225e-15,\n     5.210803119423896e-15],\n    [-2.3653328877627333e-16, 0.9999999403953552, 1.1920928244535389e-07],\n    [5.210803119423896e-15, -2.46890525801291e-08, 0.9999999403953552],\n    [-2.0, 1.25, 0.9999999403953552]]},\n  {'type': 'NULL_OR_HARDPOINT',\n   'id': 'hp14',\n   'parent': 'Hardpoints',\n   'local_transform': [[0.9999997615814209,\n     5.2108026959074225e-15,\n     5.210803119423896e-15],\n    [-2.3653328877627333e-16, 0.9999999403953552, 1.1920928244535389e-07],\n    [5.210803119423896e-15, -2.46890525801291e-08, 0.9999999403953552],\n    [2.0, 1.25, 0.9999999403953552]]},\n  {'type': 'NULL_OR_HARDPOINT',\n   'id': 'hp13',\n   'parent': 'Hardpoints',\n   'local_transform': [[0.9999997615814209,\n     5.2108026959074225e-15,\n     5.210803119423896e-15],\n    [-2.3653328877627333e-16, 0.9999999403953552, 1.1920928244535389e-07],\n    [5.210803119423896e-15, -2.46890525801291e-08, 0.9999999403953552],\n    [-2.0, 1.25, -1.7499998807907104]]},\n  {'type': 'NULL_OR_HARDPOINT',\n   'id': 'hp12',\n   'parent': 'Hardpoints',\n   'local_transform': [[0.9999997615814209,\n     5.2108026959074225e-15,\n     5.210803119423896e-15],\n    [-2.3653328877627333e-16, 0.9999999403953552, 1.1920928244535389e-07],\n    [5.210803119423896e-15, -2.46890525801291e-08, 0.9999999403953552],\n    [2.0, 1.2500001192092896, -1.7499995231628418]]},\n  {'type': 'NULL_OR_HARDPOINT',\n   'id': 'hp11',\n   'parent': 'Hardpoints',\n   'local_transform': [[0.9999997615814209,\n     5.2108026959074225e-15,\n     5.210803119423896e-15],\n    [-2.3653328877627333e-16, 0.9999999403953552, 1.1920928244535389e-07],\n    [5.210803119423896e-15, -2.46890525801291e-08, 0.9999999403953552],\n    [1.6877557023394635e-13, 1.25, -3.249999523162842]]},\n  {'type': 'NULL_OR_HARDPOINT',\n   'id': 'hp10',\n   'parent': 'Hardpoints',\n   'local_transform': [[0.9999997615814209,\n     5.2108026959074225e-15,\n     5.210803119423896e-15],\n    [-2.3653328877627333e-16, 0.9999999403953552, 1.1920928244535389e-07],\n    [5.210803119423896e-15, -2.46890525801291e-08, 0.9999999403953552],\n    [4.0334962450058696e-21, 0.5, -9.999999046325684]]},\n  {'type': 'NULL_OR_HARDPOINT',\n   'id': 'hp09',\n   'parent': 'Hardpoints',\n   'local_transform': [[0.9999997615814209,\n     5.2108026959074225e-15,\n     5.210803119423896e-15],\n    [-2.3653328877627333e-16, 0.9999999403953552, 1.1920928244535389e-07],\n    [5.210803119423896e-15, -2.46890525801291e-08, 0.9999999403953552],\n    [8.0, -1.0, -2.499999761581421]]},\n  {'type': 'NULL_OR_HARDPOINT',\n   'id': 'hp08',\n   'parent': 'Hardpoints',\n   'local_transform': [[0.9999997615814209,\n     5.2108026959074225e-15,\n     5.210803119423896e-15],\n    [-2.3653328877627333e-16, 0.9999999403953552, 1.1920928244535389e-07],\n    [5.210803119423896e-15, -2.46890525801291e-08, 0.9999999403953552],\n    [-8.0, -1.0, -2.499999761581421]]},\n  {'type': 'NULL_OR_HARDPOINT',\n   'id': 'hp07',\n   'parent': 'Hardpoints',\n   'local_transform': [[0.9999997615814209,\n     5.2108026959074225e-15,\n     5.210803119423896e-15],\n    [-2.3653328877627333e-16, 0.9999999403953552, 1.1920928244535389e-07],\n    [5.210803119423896e-15, -2.46890525801291e-08, 0.9999999403953552],\n    [-8.0, -7.575794917606682e-15, -2.5]]},\n  {'type': 'NULL_OR_HARDPOINT',\n   'id': 'hp06',\n   'parent': 'Hardpoints',\n   'local_transform': [[0.9999997615814209,\n     5.2108026959074225e-15,\n     5.210803119423896e-15],\n    [-2.3653328877627333e-16, 0.9999999403953552, 1.1920928244535389e-07],\n    [5.210803119423896e-15, -2.46890525801291e-08, 0.9999999403953552],\n    [8.0, -3.581726251309855e-15, -2.500000238418579]]},\n  {'type': 'NULL_OR_HARDPOINT',\n   'id': 'hp05',\n   'parent': 'Hardpoints',\n   'local_transform': [[0.9999997615814209,\n     5.2108026959074225e-15,\n     5.210803119423896e-15],\n    [-2.3653328877627333e-16, 0.9999999403953552, 1.1920928244535389e-07],\n    [5.210803119423896e-15, -2.46890525801291e-08, 0.9999999403953552],\n    [1.0885131636112141e-13, -1.6250001192092896, 5.999999523162842]]},\n  {'type': 'NULL_OR_HARDPOINT',\n   'id': 'hp04',\n   'parent': 'Hardpoints',\n   'local_transform': [[0.9999997615814209,\n     5.2108026959074225e-15,\n     5.210803119423896e-15],\n    [-2.3653328877627333e-16, 0.9999999403953552, 1.1920928244535389e-07],\n    [5.210803119423896e-15, -2.46890525801291e-08, 0.9999999403953552],\n    [-7.0, -0.625, 2.0]]},\n  {'type': 'NULL_OR_HARDPOINT',\n   'id': 'hp03',\n   'parent': 'Hardpoints',\n   'local_transform': [[0.9999997615814209,\n     5.2108026959074225e-15,\n     5.210803119423896e-15],\n    [-2.3653328877627333e-16, 0.9999999403953552, 1.1920928244535389e-07],\n    [5.210803119423896e-15, -2.46890525801291e-08, 0.9999999403953552],\n    [7.0, -0.6250000596046448, 2.0]]},\n  {'type': 'NULL_OR_HARDPOINT',\n   'id': 'hp02',\n   'parent': 'Hardpoints',\n   'local_transform': [[0.9999997615814209,\n     5.2108026959074225e-15,\n     5.210803119423896e-15],\n    [-2.3653328877627333e-16, 0.9999999403953552, 1.1920928244535389e-07],\n    [5.210803119423896e-15, -2.46890525801291e-08, 0.9999999403953552],\n    [-7.0, -0.375, 1.9999998807907104]]},\n  {'type': 'NULL_OR_HARDPOINT',\n   'id': 'hp01',\n   'parent': 'Hardpoints',\n   'local_transform': [[0.9999997615814209,\n     5.2108026959074225e-15,\n     5.210803119423896e-15],\n    [-2.3653328877627333e-16, 0.9999999403953552, 1.1920928244535389e-07],\n    [5.210803119423896e-15, -2.46890525801291e-08, 0.9999999403953552],\n    [6.999999046325684, -0.3750000298023224, 2.000002145767212]]},\n  {'type': 'NULL_OR_HARDPOINT',\n   'id': 'Geometry',\n   'parent': 'Root',\n   'local_transform': [[1.0, 0.0, 0.0],\n    [0.0, 1.0, 0.0],\n    [0.0, 0.0, 1.0],\n    [0.0, 0.0, 0.0]]},\n  {'type': 'NULL_OR_HARDPOINT',\n   'id': 'Lod2',\n   'parent': 'Geometry',\n   'local_transform': [[1.0, 0.0, 0.0],\n    [0.0, 1.0, 0.0],\n    [0.0, 0.0, 1.0],\n    [0.0, 0.0, 0.0]]},\n  {'type': 'MESH',\n   'id': 'fincursion_lod2',\n   'parent': 'Lod2',\n   'local_transform': [[-1.0, -1.0421607932913687e-14, -8.742281210061265e-08],\n    [5.2108026959074225e-15, 1.0, 5.9604641222676946e-08],\n    [8.742275525719378e-08, -2.1175816108292818e-22, -1.0],\n    [-4.656054954921274e-07, 0.5624998211860657, -0.4599582850933075]]},\n  {'type': 'NULL_OR_HARDPOINT',\n   'id': 'Lod1',\n   'parent': 'Geometry',\n   'local_transform': [[1.0, 0.0, 0.0],\n    [0.0, 1.0, 0.0],\n    [0.0, 0.0, 1.0],\n    [0.0, 0.0, 0.0]]},\n  {'type': 'MESH',\n   'id': 'fincursion_lod1',\n   'parent': 'Lod1',\n   'local_transform': [[-1.0, -1.0421607932913687e-14, -8.742281210061265e-08],\n    [5.2108026959074225e-15, 1.0, 5.9604641222676946e-08],\n    [8.742275525719378e-08, -2.1175816108292818e-22, -1.0],\n    [-4.656054954921274e-07, 0.5624998211860657, -0.4599582850933075]]},\n  {'type': 'NULL_OR_HARDPOINT',\n   'id': 'Damage',\n   'parent': 'Root',\n   'local_transform': [[1.0, 0.0, 0.0],\n    [0.0, 1.0, 0.0],\n    [0.0, 0.0, 1.0],\n    [0.0, 0.0, 0.0]]},\n  {'type': 'NULL_OR_HARDPOINT',\n   'id': 'Borg',\n   'parent': 'Damage',\n   'local_transform': [[0.9999997615814209,\n     5.2108026959074225e-15,\n     5.210803119423896e-15],\n    [-5.210802272390949e-15, 1.4389831903827144e-07, -0.9999998211860657],\n    [-2.365326270317833e-16, 0.9999998211860657, 2.3841855067985307e-07],\n    [4.499999046325684, -1.4999998807907104, 4.483586479864243e-08]]},\n  {'type': 'NULL_OR_HARDPOINT',\n   'id': 'Shield',\n   'parent': 'Damage',\n   'local_transform': [[0.9999997615814209,\n     5.2108026959074225e-15,\n     5.210803119423896e-15],\n    [-5.210802272390949e-15, 1.4389831903827144e-07, -0.9999998211860657],\n    [-2.365326270317833e-16, 0.9999998211860657, 2.3841855067985307e-07],\n    [2.9999990463256836, -1.4999998807907104, 4.4835857693215075e-08]]},\n  {'type': 'NULL_OR_HARDPOINT',\n   'id': 'Sensors',\n   'parent': 'Damage',\n   'local_transform': [[1.0, 0.0, 0.0],\n    [0.0, 1.0, 0.0],\n    [0.0, 0.0, 1.0],\n    [0.0, 0.0, 0.0]]},\n  {'type': 'SPRITE',\n   'id': 'sensor',\n   'parent': 'Sensors',\n   'local_transform': [[0.9999998211860657,\n     -9.049703209029758e-10,\n     -6.570562050001172e-08],\n    [6.561510446090324e-08, 2.4687519584176698e-08, 1.0],\n    [-2.1960712359714307e-08, -0.9999999403953552, -6.984744516103092e-08],\n    [9.536740890325746e-07, -1.5000001192092896, 6.000001907348633]]},\n  {'type': 'NULL_OR_HARDPOINT',\n   'id': 'Target',\n   'parent': 'Damage',\n   'local_transform': [[0.9999997615814209,\n     5.2108026959074225e-15,\n     5.210803119423896e-15],\n    [-5.210802272390949e-15, 1.4389831903827144e-07, -0.9999998211860657],\n    [-2.365326270317833e-16, 0.9999998211860657, 2.3841855067985307e-07],\n    [-1.1920928955078125e-07, -1.4999998807907104, 4.483584348236036e-08]]},\n  {'type': 'NULL_OR_HARDPOINT',\n   'id': 'Life',\n   'parent': 'Damage',\n   'local_transform': [[1.0, 0.0, 0.0],\n    [0.0, 1.0, 0.0],\n    [0.0, 0.0, 1.0],\n    [0.0, 0.0, 0.0]]},\n  {'type': 'EMITTER',\n   'id': 'steamsml',\n   'parent': 'Life',\n   'local_transform': [[0.9999997615814209,\n     1.9752689745357668e-14,\n     -8.74227694680485e-08],\n    [-8.742277657347586e-08, 6.273371155884888e-08, -0.9999998211860657],\n    [-9.294063931550127e-15, 0.9999998211860657, 1.5725395030585787e-07],\n    [3.5762775496550603e-07, 2.0, 8.196960266104725e-07]]},\n  {'type': 'NULL_OR_HARDPOINT',\n   'id': 'Engines',\n   'parent': 'Damage',\n   'local_transform': [[1.0, 0.0, 0.0],\n    [0.0, 1.0, 0.0],\n    [0.0, 0.0, 1.0],\n    [0.0, 0.0, 0.0]]},\n  {'type': 'EMITTER',\n   'id': 'plasmasml',\n   'parent': 'Engines',\n   'local_transform': [[0.9999998807907104,\n     -5.36221733682396e-08,\n     8.383471339357129e-08],\n    [8.383468497186186e-08, -2.4689045474701743e-08, -0.9999999403953552],\n    [6.546851949451593e-08, 0.9999998211860657, 6.983118794323673e-08],\n    [5.999999523162842, 0.49999991059303284, -0.9999995231628418]]},\n  {'type': 'NULL_OR_HARDPOINT',\n   'id': 'Crew',\n   'parent': 'Damage',\n   'local_transform': [[1.0, 0.0, 0.0],\n    [0.0, 1.0, 0.0],\n    [0.0, 0.0, 1.0],\n    [0.0, 0.0, 0.0]]},\n  {'type': 'SPRITE',\n   'id': 'crew5',\n   'parent': 'Crew',\n   'local_transform': [[-5.2200213929154415e-08,\n     2.7985151973553e-07,\n     0.9999997615814209],\n    [0.9999995231628418, 7.83116362867986e-08, -4.848905987842045e-08],\n    [-5.1045308424590985e-08, 0.9999999403953552, -2.0787101107089256e-07],\n    [-2.000001907348633, 1.25, -3.9999961853027344]]},\n  {'type': 'SPRITE',\n   'id': 'crew4',\n   'parent': 'Crew',\n   'local_transform': [[0.9999996423721313,\n     -7.822251291145221e-07,\n     1.1125433019287811e-08],\n    [1.1179677983363945e-07, 7.190492965492012e-07, -0.9999998807907104],\n    [8.072429977801221e-07, 0.9999999403953552, 7.910285262369143e-07],\n    [0.999998152256012, 1.2499998807907104, -5.999996662139893]]},\n  {'type': 'SPRITE',\n   'id': 'crew3',\n   'parent': 'Crew',\n   'local_transform': [[0.8660250902175903,\n     -1.0522259685785684e-07,\n     -0.4999999701976776],\n    [-0.49999985098838806, 1.5927890117950483e-08, -0.8660250902175903],\n    [1.268398364118184e-07, 0.9999998807907104, 3.3110531205693405e-08],\n    [-1.9999998807907104, 0.6249998807907104, 8.0]]},\n  {'type': 'SPRITE',\n   'id': 'crew2',\n   'parent': 'Crew',\n   'local_transform': [[-0.4999999403953552,\n     -6.376779282390999e-08,\n     0.8660252690315247],\n    [0.8660250902175903, 5.973287215965684e-07, 0.4999999403953552],\n    [-5.509775178325071e-07, 1.0, -1.5565346700441296e-07],\n    [2.999999523162842, 0.6249998807907104, 4.000000953674316]]},\n  {'type': 'SPRITE',\n   'id': 'crew1',\n   'parent': 'Crew',\n   'local_transform': [[0.9659255743026733,\n     7.808876034687273e-08,\n     0.25881898403167725],\n    [0.25881898403167725, 2.0597974881297887e-08, -0.9659257531166077],\n    [-6.49786571216282e-08, 1.0, 9.767364161916703e-08],\n    [0.9999996423721313, 0.6249998211860657, 6.0]]}],\n 'anim_transforms': [],\n 'anim_textures': []}"
     },
     "execution_count": 5,
     "metadata": {},
     "output_type": "execute_result"
    }
   ],
   "source": [
    "parser.parseFile('fincursion.sod')"
   ]
  },
  {
   "cell_type": "markdown",
   "metadata": {},
   "source": [
    "## Scratches"
   ]
  },
  {
   "cell_type": "code",
   "execution_count": 221,
   "metadata": {},
   "outputs": [
    {
     "name": "stdout",
     "output_type": "stream",
     "text": "1 0\n"
    }
   ],
   "source": [
    "binary_data_length = struct.pack(UINT16, len('Storm3D_SW'))\n",
    "binary_string = struct.pack('<' + str(len('Storm3D_SW')) + 'B', *b'Storm3D_SW')  # * operator to pass in bytes as char (UINT8) array\n",
    "\n",
    "length = struct.unpack(UINT16, binary_data_length)[0]\n",
    "arr = struct.unpack('<' + str(length) + 'B', binary_string)\n",
    "print(length, bytes(arr).decode('ascii'))"
   ]
  },
  {
   "cell_type": "code",
   "execution_count": 32,
   "metadata": {},
   "outputs": [
    {
     "data": {
      "text/plain": "64"
     },
     "execution_count": 32,
     "metadata": {},
     "output_type": "execute_result"
    }
   ],
   "source": [
    "import struct\n",
    "f = 1.1\n",
    "bf = struct.pack('<f', f)\n",
    "uf = struct.unpack('<I', bf)[0]\n",
    "(uf + 1) & 65"
   ]
  },
  {
   "cell_type": "code",
   "execution_count": 39,
   "metadata": {},
   "outputs": [
    {
     "data": {
      "text/plain": "1"
     },
     "execution_count": 39,
     "metadata": {},
     "output_type": "execute_result"
    }
   ],
   "source": [
    "(int(0x5d43f4) + 1) & 1"
   ]
  },
  {
   "cell_type": "code",
   "execution_count": 34,
   "metadata": {},
   "outputs": [
    {
     "data": {
      "text/plain": "6112240"
     },
     "execution_count": 34,
     "metadata": {},
     "output_type": "execute_result"
    }
   ],
   "source": [
    "0x5d43f0"
   ]
  },
  {
   "cell_type": "code",
   "execution_count": null,
   "metadata": {},
   "outputs": [],
   "source": []
  }
 ]
}